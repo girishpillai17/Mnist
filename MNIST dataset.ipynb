{
 "cells": [
  {
   "cell_type": "code",
   "execution_count": 1,
   "metadata": {
    "ExecuteTime": {
     "end_time": "2019-08-02T17:29:11.287118Z",
     "start_time": "2019-08-02T17:29:08.709734Z"
    }
   },
   "outputs": [
    {
     "name": "stderr",
     "output_type": "stream",
     "text": [
      "Using TensorFlow backend.\n"
     ]
    }
   ],
   "source": [
    "import numpy as np\n",
    "import matplotlib.pyplot as plt\n",
    "import keras\n",
    "import keras_applications\n",
    "import keras_preprocessing"
   ]
  },
  {
   "cell_type": "code",
   "execution_count": 2,
   "metadata": {
    "ExecuteTime": {
     "end_time": "2019-08-02T16:09:40.339469Z",
     "start_time": "2019-08-02T16:09:38.762300Z"
    }
   },
   "outputs": [
    {
     "data": {
      "image/png": "[encoded data removed]",
      "text/plain": [
       "<Figure size 864x360 with 14 Axes>"
      ]
     },
     "metadata": {},
     "output_type": "display_data"
    }
   ],
   "source": [
    "from matplotlib import style\n",
    "style.use('fivethirtyeight') or plt.style.use('fivethirtyeight')\n",
    "\n",
    "from keras.datasets.mnist import load_data\n",
    "(X_train, y_train), (X_test, y_test) = load_data()\n",
    "np.random.seed(123)\n",
    "\n",
    "# generate 14 random images from the dataset just to see\n",
    "# (train_digits, train_labels), (test_digits, test_labels)  == (X_train, y_train), (X_test, y_test)\n",
    "random_14 = np.random.randint(0, X_train.shape[0], 14)\n",
    "sample_digits = X_train[random_14]\n",
    "sample_labels = y_train[random_14]\n",
    "\n",
    "num_rows, num_columns = 2,7\n",
    "f, ax = plt.subplots(num_rows, num_columns, figsize=(12,5),\n",
    "                    gridspec_kw={'wspace':0.03, 'hspace':0.01},\n",
    "                    squeeze=True)\n",
    "\n",
    "for r in range(num_rows):\n",
    "    for c in range(num_columns):\n",
    "        image_index = r * 7 + c\n",
    "        ax[r,c].axis(\"off\")\n",
    "        ax[r,c].imshow(sample_digits[image_index], cmap='gray')\n",
    "        ax[r,c].set_title('No. %d' % sample_labels[image_index])\n",
    "        \n",
    "plt.show()"
   ]
  },
  {
   "cell_type": "code",
   "execution_count": 3,
   "metadata": {
    "ExecuteTime": {
     "end_time": "2019-08-02T16:09:40.667520Z",
     "start_time": "2019-08-02T16:09:40.339469Z"
    }
   },
   "outputs": [
    {
     "data": {
      "text/plain": [
       "((60000, 10), (10000, 10))"
      ]
     },
     "execution_count": 3,
     "metadata": {},
     "output_type": "execute_result"
    }
   ],
   "source": [
    "image_height = X_train.shape[1]\n",
    "image_width = X_train.shape[2]\n",
    "num_channels = 1\n",
    "\n",
    "#reshape the image data\n",
    "train_data = np.reshape(X_train, (X_train.shape[0], image_height, image_width, num_channels))\n",
    "test_data = np.reshape(X_test, (X_test.shape[0], image_height, image_width, num_channels))\n",
    "\n",
    "#rescale the images in range of (0-1)\n",
    "train_data = train_data.astype('float32') / 255\n",
    "test_data = test_data.astype('float32') / 255\n",
    "\n",
    "# one-hot encode the labels\n",
    "# so 3 -> [0 0 0 1 0 0 0 0 0 0], 5 -> [0 0 0 0 0 1 0 0 0 0] & so on\n",
    "from keras.utils import to_categorical\n",
    "num_classes = 10\n",
    "y_train_cat = to_categorical(y_train, num_classes)\n",
    "y_test_cat = to_categorical(y_test, num_classes)\n",
    "y_train_cat.shape, y_test_cat.shape "
   ]
  },
  {
   "cell_type": "code",
   "execution_count": 4,
   "metadata": {
    "ExecuteTime": {
     "end_time": "2019-08-02T16:09:40.854971Z",
     "start_time": "2019-08-02T16:09:40.667520Z"
    }
   },
   "outputs": [],
   "source": [
    "# Splitting the training data into training and cross validation set\n",
    "for i in range(5):\n",
    "    indexes = np.random.permutation(len(train_data))\n",
    "    \n",
    "train_data = train_data[indexes]\n",
    "y_train_cat = y_train_cat[indexes]\n",
    "\n",
    "#giving 10% of train_data to cv\n",
    "val_perc = 0.10\n",
    "val_count = int(val_perc * len(train_data))\n",
    "\n",
    "#validation data\n",
    "val_data = train_data[:val_count,:]\n",
    "val_train_cat = y_train_cat[:val_count,:]\n",
    "\n",
    "#keeping rest in train data\n",
    "training_data = train_data[val_count:,:]\n",
    "y_train_cat2 = y_train_cat[val_count:,:]"
   ]
  },
  {
   "cell_type": "code",
   "execution_count": 5,
   "metadata": {
    "ExecuteTime": {
     "end_time": "2019-08-02T16:09:42.214364Z",
     "start_time": "2019-08-02T16:09:41.620416Z"
    }
   },
   "outputs": [
    {
     "name": "stdout",
     "output_type": "stream",
     "text": [
      "WARNING:tensorflow:From C:\\Users\\Girish Pillai\\Anaconda3\\envs\\numpy\\lib\\site-packages\\tensorflow\\python\\framework\\op_def_library.py:263: colocate_with (from tensorflow.python.framework.ops) is deprecated and will be removed in a future version.\n",
      "Instructions for updating:\n",
      "Colocations handled automatically by placer.\n",
      "_________________________________________________________________\n",
      "Layer (type)                 Output Shape              Param #   \n",
      "=================================================================\n",
      "conv2d_1 (Conv2D)            (None, 28, 28, 32)        320       \n",
      "_________________________________________________________________\n",
      "max_pooling2d_1 (MaxPooling2 (None, 14, 14, 32)        0         \n",
      "_________________________________________________________________\n",
      "conv2d_2 (Conv2D)            (None, 14, 14, 64)        18496     \n",
      "_________________________________________________________________\n",
      "max_pooling2d_2 (MaxPooling2 (None, 7, 7, 64)          0         \n",
      "_________________________________________________________________\n",
      "conv2d_3 (Conv2D)            (None, 7, 7, 64)          36928     \n",
      "_________________________________________________________________\n",
      "max_pooling2d_3 (MaxPooling2 (None, 3, 3, 64)          0         \n",
      "_________________________________________________________________\n",
      "flatten_1 (Flatten)          (None, 576)               0         \n",
      "_________________________________________________________________\n",
      "dense_1 (Dense)              (None, 512)               295424    \n",
      "_________________________________________________________________\n",
      "dense_2 (Dense)              (None, 10)                5130      \n",
      "=================================================================\n",
      "Total params: 356,298\n",
      "Trainable params: 356,298\n",
      "Non-trainable params: 0\n",
      "_________________________________________________________________\n",
      "None\n"
     ]
    }
   ],
   "source": [
    "from keras.models import Sequential\n",
    "from keras.layers import Conv2D, MaxPooling2D, Flatten, Dense, Softmax\n",
    "\n",
    "def build_model():\n",
    "    model = Sequential()\n",
    "    #Adding convolution and maxpooling layer\n",
    "    model.add(Conv2D(filters = 32, kernel_size=(3,3), activation = 'relu', padding = 'same',input_shape=(image_height, image_width, num_channels)))\n",
    "    model.add(MaxPooling2D(pool_size=(2,2)))\n",
    "    model.add(Conv2D(filters = 64, kernel_size=(3,3), activation = 'relu', padding = 'same',input_shape=(image_height, image_width, num_channels)))\n",
    "    model.add(MaxPooling2D(pool_size=(2,2)))\n",
    "    model.add(Conv2D(filters = 64, kernel_size=(3,3), activation='relu', padding='same',input_shape=(image_height, image_width, num_channels)))\n",
    "    model.add(MaxPooling2D(pool_size=(2,2)))\n",
    "    model.add(Flatten())\n",
    "    model.add(Dense(512, activation='relu'))\n",
    "    model.add(Dense(num_classes, activation='softmax'))\n",
    "    model.compile(optimizer='adam', loss='categorical_crossentropy', metrics=['accuracy'])\n",
    "    return model\n",
    "\n",
    "model = build_model()\n",
    "print(model.summary())"
   ]
  },
  {
   "cell_type": "code",
   "execution_count": null,
   "metadata": {
    "ExecuteTime": {
     "end_time": "2019-08-02T16:09:53.414528Z",
     "start_time": "2019-08-02T16:09:43.354971Z"
    }
   },
   "outputs": [
    {
     "name": "stdout",
     "output_type": "stream",
     "text": [
      "WARNING:tensorflow:From C:\\Users\\Girish Pillai\\Anaconda3\\envs\\numpy\\lib\\site-packages\\tensorflow\\python\\ops\\math_ops.py:3066: to_int32 (from tensorflow.python.ops.math_ops) is deprecated and will be removed in a future version.\n",
      "Instructions for updating:\n",
      "Use tf.cast instead.\n",
      "Train on 54000 samples, validate on 6000 samples\n",
      "Epoch 1/20\n",
      "54000/54000 [==============================] - 27s 503us/step - loss: 0.1587 - acc: 0.9500 - val_loss: 0.0513 - val_acc: 0.9827\n",
      "Epoch 2/20\n",
      "54000/54000 [==============================] - 20s 370us/step - loss: 0.0448 - acc: 0.9861 - val_loss: 0.0347 - val_acc: 0.9888\n",
      "Epoch 3/20\n",
      "54000/54000 [==============================] - 21s 391us/step - loss: 0.0314 - acc: 0.9897 - val_loss: 0.0353 - val_acc: 0.9880\n",
      "Epoch 4/20\n",
      "54000/54000 [==============================] - 21s 387us/step - loss: 0.0245 - acc: 0.9923 - val_loss: 0.0357 - val_acc: 0.9887\n",
      "Epoch 5/20\n",
      "54000/54000 [==============================] - 21s 392us/step - loss: 0.0201 - acc: 0.9939 - val_loss: 0.0324 - val_acc: 0.9903\n",
      "Epoch 6/20\n",
      "54000/54000 [==============================] - 21s 389us/step - loss: 0.0172 - acc: 0.9947 - val_loss: 0.0245 - val_acc: 0.9940\n",
      "Epoch 7/20\n",
      "54000/54000 [==============================] - 21s 391us/step - loss: 0.0138 - acc: 0.9954 - val_loss: 0.0295 - val_acc: 0.9915\n",
      "Epoch 8/20\n",
      "54000/54000 [==============================] - 21s 389us/step - loss: 0.0139 - acc: 0.9953 - val_loss: 0.0350 - val_acc: 0.9908\n",
      "Epoch 9/20\n",
      "54000/54000 [==============================] - 21s 389us/step - loss: 0.0116 - acc: 0.9961 - val_loss: 0.0285 - val_acc: 0.9920\n",
      "Epoch 10/20\n",
      "54000/54000 [==============================] - 21s 388us/step - loss: 0.0084 - acc: 0.9973 - val_loss: 0.0345 - val_acc: 0.9920\n",
      "Epoch 11/20\n",
      "54000/54000 [==============================] - 21s 392us/step - loss: 0.0082 - acc: 0.9973 - val_loss: 0.0409 - val_acc: 0.9890\n",
      "Epoch 12/20\n",
      "54000/54000 [==============================] - 22s 398us/step - loss: 0.0089 - acc: 0.9973 - val_loss: 0.0299 - val_acc: 0.9933\n",
      "Epoch 13/20\n",
      "54000/54000 [==============================] - 21s 389us/step - loss: 0.0064 - acc: 0.9980 - val_loss: 0.0299 - val_acc: 0.9920\n",
      "Epoch 14/20\n",
      "54000/54000 [==============================] - 21s 389us/step - loss: 0.0082 - acc: 0.9974 - val_loss: 0.0459 - val_acc: 0.9900\n",
      "Epoch 15/20\n",
      "54000/54000 [==============================] - 21s 388us/step - loss: 0.0064 - acc: 0.9983 - val_loss: 0.0451 - val_acc: 0.9895\n",
      "Epoch 16/20\n",
      "41600/54000 [======================>.......] - ETA: 4s - loss: 0.0059 - acc: 0.9983"
     ]
    }
   ],
   "source": [
    "results = model.fit(training_data, y_train_cat2, epochs=20, batch_size=64, validation_data=(val_data,val_train_cat))"
   ]
  },
  {
   "cell_type": "code",
   "execution_count": 1,
   "metadata": {},
   "outputs": [
    {
     "ename": "NameError",
     "evalue": "name 'model' is not defined",
     "output_type": "error",
     "traceback": [
      "\u001b[1;31m---------------------------------------------------------------------------\u001b[0m",
      "\u001b[1;31mNameError\u001b[0m                                 Traceback (most recent call last)",
      "\u001b[1;32m<ipython-input-1-91c12f3b5fde>\u001b[0m in \u001b[0;36m<module>\u001b[1;34m\u001b[0m\n\u001b[1;32m----> 1\u001b[1;33m \u001b[0mtest_loss\u001b[0m\u001b[1;33m,\u001b[0m \u001b[0mtest_acccuracy\u001b[0m \u001b[1;33m=\u001b[0m \u001b[0mmodel\u001b[0m\u001b[1;33m.\u001b[0m\u001b[0mevaluate\u001b[0m\u001b[1;33m(\u001b[0m\u001b[0mtest_data\u001b[0m\u001b[1;33m,\u001b[0m \u001b[0my_test_cat\u001b[0m\u001b[1;33m,\u001b[0m \u001b[0mbatch_size\u001b[0m\u001b[1;33m=\u001b[0m\u001b[1;36m64\u001b[0m\u001b[1;33m)\u001b[0m\u001b[1;33m\u001b[0m\u001b[1;33m\u001b[0m\u001b[0m\n\u001b[0m\u001b[0;32m      2\u001b[0m \u001b[0mprint\u001b[0m\u001b[1;33m(\u001b[0m\u001b[1;34m'Test loss: %.4f accuracy: %.4f'\u001b[0m \u001b[1;33m%\u001b[0m\u001b[1;33m(\u001b[0m\u001b[0mtest_loss\u001b[0m\u001b[1;33m,\u001b[0m \u001b[0mtest_acccuracy\u001b[0m\u001b[1;33m)\u001b[0m\u001b[1;33m)\u001b[0m\u001b[1;33m\u001b[0m\u001b[1;33m\u001b[0m\u001b[0m\n",
      "\u001b[1;31mNameError\u001b[0m: name 'model' is not defined"
     ]
    }
   ],
   "source": [
    "test_loss, test_acccuracy = model.evaluate(test_data, y_test_cat, batch_size=64)\n",
    "print('Test loss: %.4f accuracy: %.4f' %(test_loss, test_acccuracy))"
   ]
  },
  {
   "cell_type": "code",
   "execution_count": null,
   "metadata": {},
   "outputs": [],
   "source": [
    "predictions = model.predict(test_data)\n",
    "first20_preds = np.argmax(predictions, axis=1)[:25]\n",
    "first20_true = np.argmax(y_test_cat, axis=1)[:25]\n",
    "\n",
    "print(first20_preds)\n",
    "print(first20_true)"
   ]
  },
  {
   "cell_type": "code",
   "execution_count": null,
   "metadata": {},
   "outputs": [],
   "source": [
    "random20_preds = np.argmax(predictions, axis=1)[255:275]\n",
    "random20_true = np.argmax(y_test_cat, axis=1)[255:275]\n",
    "\n",
    "print(random20_preds)\n",
    "print(random20_true)"
   ]
  },
  {
   "cell_type": "code",
   "execution_count": null,
   "metadata": {},
   "outputs": [],
   "source": [
    "#how many mismatches\n",
    "(np.argmax(predictions, axis=1) != np.argmax(y_test_cat, axis=1)).sum()"
   ]
  },
  {
   "cell_type": "code",
   "execution_count": null,
   "metadata": {},
   "outputs": [],
   "source": []
  },
  {
   "cell_type": "code",
   "execution_count": null,
   "metadata": {},
   "outputs": [],
   "source": []
  }
 ],
 "metadata": {
  "kernelspec": {
   "display_name": "Python 3",
   "language": "python",
   "name": "python3"
  },
  "language_info": {
   "codemirror_mode": {
    "name": "ipython",
    "version": 3
   },
   "file_extension": ".py",
   "mimetype": "text/x-python",
   "name": "python",
   "nbconvert_exporter": "python",
   "pygments_lexer": "ipython3",
   "version": "3.7.3"
  }
 },
 "nbformat": 4,
 "nbformat_minor": 2
}
